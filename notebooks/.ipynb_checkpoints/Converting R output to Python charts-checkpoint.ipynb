{
 "cells": [
  {
   "cell_type": "code",
   "execution_count": 2,
   "metadata": {
    "collapsed": true
   },
   "outputs": [],
   "source": [
    "import pandas as pd\n",
    "import matplotlib.pyplot as plt\n",
    "import numpy as np\n",
    "from sklearn.ensemble import RandomForestClassifier\n",
    "from sklearn.model_selection import cross_val_score\n",
    "from sklearn.base import clone"
   ]
  },
  {
   "cell_type": "code",
   "execution_count": 21,
   "metadata": {
    "collapsed": true
   },
   "outputs": [],
   "source": [
    "def plot_importances(df_importances, save=None, xrot=0, tickstep=3, scalefig=(1.0,1.0)):\n",
    "    \"\"\"\n",
    "    Given an array or data frame of importances, plot a horizontal bar chart\n",
    "    showing the importance values.\n",
    "    \"\"\"\n",
    "    I = df_importances\n",
    "\n",
    "    fig = plt.figure()\n",
    "    w, h = fig.get_size_inches()\n",
    "    fig.set_size_inches(w*scalefig[0], h*scalefig[1], forward=True)\n",
    "    ax = plt.gca()\n",
    "    ax.barh(np.arange(len(I.index)), I.Importance, height=.7, tick_label=I.ix[:,0])\n",
    "\n",
    "    x0, x1 = ax.get_xlim()\n",
    "    y0, y1 = ax.get_ylim()\n",
    "    ax.set_aspect((x1 - x0) / (y1 - y0))\n",
    "\n",
    "    # rotate x-ticks\n",
    "    if xrot is not None:\n",
    "        plt.xticks(rotation=xrot)\n",
    "\n",
    "    # xticks freq\n",
    "    xticks = ax.get_xticks()\n",
    "    nticks = len(xticks)\n",
    "    new_ticks = xticks[np.arange(0, nticks, step=tickstep)]\n",
    "    ax.set_xticks(new_ticks)\n",
    "\n",
    "    plt.tight_layout()\n",
    "    if save:\n",
    "        plt.savefig(save, bbox_inches=\"tight\", pad_inches=0.03)\n",
    "    plt.show()"
   ]
  },
  {
   "cell_type": "markdown",
   "metadata": {},
   "source": [
    "## Classification - Accuracy"
   ]
  },
  {
   "cell_type": "code",
   "execution_count": 73,
   "metadata": {},
   "outputs": [
    {
     "name": "stderr",
     "output_type": "stream",
     "text": [
      "/Users/chrispaul/anaconda2/lib/python2.7/site-packages/ipykernel_launcher.py:12: DeprecationWarning: \n",
      ".ix is deprecated. Please use\n",
      ".loc for label based indexing or\n",
      ".iloc for positional indexing\n",
      "\n",
      "See the documentation here:\n",
      "http://pandas.pydata.org/pandas-docs/stable/indexing.html#deprecate_ix\n",
      "  if sys.path[0] == '':\n"
     ]
    },
    {
     "data": {
      "image/png": "[encoded data removed]",
      "text/plain": [
       "<matplotlib.figure.Figure at 0x11578fcd0>"
      ]
     },
     "metadata": {},
     "output_type": "display_data"
    }
   ],
   "source": [
    "df = pd.read_csv(\"data/imp_R_class_acc.csv\")\n",
    "df = df.rename(columns={ df.columns[1]: \"Importance\" })\n",
    "sort = df.sort_values(df.columns[1], ascending = True)\n",
    "sort\n",
    "\n",
    "plot_importances(sort, scalefig=(1.0,0.8), save='../article/images/R_class_acc_random.svg')"
   ]
  },
  {
   "cell_type": "markdown",
   "metadata": {},
   "source": [
    "## Classification - Gini"
   ]
  },
  {
   "cell_type": "code",
   "execution_count": 74,
   "metadata": {},
   "outputs": [
    {
     "name": "stderr",
     "output_type": "stream",
     "text": [
      "/Users/chrispaul/anaconda2/lib/python2.7/site-packages/ipykernel_launcher.py:12: DeprecationWarning: \n",
      ".ix is deprecated. Please use\n",
      ".loc for label based indexing or\n",
      ".iloc for positional indexing\n",
      "\n",
      "See the documentation here:\n",
      "http://pandas.pydata.org/pandas-docs/stable/indexing.html#deprecate_ix\n",
      "  if sys.path[0] == '':\n"
     ]
    },
    {
     "data": {
      "image/png": "[encoded data removed]",
      "text/plain": [
       "<matplotlib.figure.Figure at 0x1123e9b10>"
      ]
     },
     "metadata": {},
     "output_type": "display_data"
    }
   ],
   "source": [
    "df = pd.read_csv(\"data/imp_R_class_gini.csv\")\n",
    "df\n",
    "\n",
    "df = df.rename(columns={ df.columns[1]: \"Importance\" })\n",
    "sort = df.sort_values(df.columns[1], ascending = True)\n",
    "sort\n",
    "\n",
    "plot_importances(sort, scalefig=(1.0,0.8), save='../article/images/R_class_gini_random.svg')"
   ]
  },
  {
   "cell_type": "markdown",
   "metadata": {},
   "source": [
    "## Classification - Drop"
   ]
  },
  {
   "cell_type": "code",
   "execution_count": 79,
   "metadata": {},
   "outputs": [
    {
     "name": "stderr",
     "output_type": "stream",
     "text": [
      "/Users/chrispaul/anaconda2/lib/python2.7/site-packages/ipykernel_launcher.py:12: DeprecationWarning: \n",
      ".ix is deprecated. Please use\n",
      ".loc for label based indexing or\n",
      ".iloc for positional indexing\n",
      "\n",
      "See the documentation here:\n",
      "http://pandas.pydata.org/pandas-docs/stable/indexing.html#deprecate_ix\n",
      "  if sys.path[0] == '':\n"
     ]
    },
    {
     "data": {
      "image/png": "[encoded data removed]",
      "text/plain": [
       "<matplotlib.figure.Figure at 0x115675d50>"
      ]
     },
     "metadata": {},
     "output_type": "display_data"
    }
   ],
   "source": [
    "df = pd.read_csv(\"data/imp_R_class_drop.csv\")\n",
    "df\n",
    "\n",
    "#df = df.rename(columns={ df.columns[1]: \"Importance\" })\n",
    "sort = df.sort_values(df.columns[2], ascending = True)\n",
    "sort = sort.drop(sort.columns[0], axis=1)\n",
    "sort\n",
    "\n",
    "plot_importances(sort, scalefig=(1.0,0.8), save='../article/images/R_class_drop_random.svg')"
   ]
  },
  {
   "cell_type": "markdown",
   "metadata": {},
   "source": [
    "## Regression - MSE"
   ]
  },
  {
   "cell_type": "code",
   "execution_count": 76,
   "metadata": {},
   "outputs": [
    {
     "name": "stderr",
     "output_type": "stream",
     "text": [
      "/Users/chrispaul/anaconda2/lib/python2.7/site-packages/ipykernel_launcher.py:12: DeprecationWarning: \n",
      ".ix is deprecated. Please use\n",
      ".loc for label based indexing or\n",
      ".iloc for positional indexing\n",
      "\n",
      "See the documentation here:\n",
      "http://pandas.pydata.org/pandas-docs/stable/indexing.html#deprecate_ix\n",
      "  if sys.path[0] == '':\n"
     ]
    },
    {
     "data": {
      "image/png": "[encoded data removed]",
      "text/plain": [
       "<matplotlib.figure.Figure at 0x115ca4a10>"
      ]
     },
     "metadata": {},
     "output_type": "display_data"
    }
   ],
   "source": [
    "df = pd.read_csv(\"data/imp_R_regr_MSE.csv\")\n",
    "df\n",
    "\n",
    "df = df.rename(columns={ df.columns[1]: \"Importance\" })\n",
    "\n",
    "df = df.rename(columns={ df.columns[0]: \"Feature\" })\n",
    "df\n",
    "\n",
    "sort = df.sort_values(df.columns[1], ascending = True)\n",
    "#sort = sort.drop(sort.columns[0], axis=1)\n",
    "sort\n",
    "\n",
    "plot_importances(sort, scalefig=(1.0,0.8), save='../article/images/R_regr_MSE_random.svg')"
   ]
  },
  {
   "cell_type": "markdown",
   "metadata": {},
   "source": [
    "## Regression - RSE"
   ]
  },
  {
   "cell_type": "code",
   "execution_count": 77,
   "metadata": {},
   "outputs": [
    {
     "name": "stderr",
     "output_type": "stream",
     "text": [
      "/Users/chrispaul/anaconda2/lib/python2.7/site-packages/ipykernel_launcher.py:12: DeprecationWarning: \n",
      ".ix is deprecated. Please use\n",
      ".loc for label based indexing or\n",
      ".iloc for positional indexing\n",
      "\n",
      "See the documentation here:\n",
      "http://pandas.pydata.org/pandas-docs/stable/indexing.html#deprecate_ix\n",
      "  if sys.path[0] == '':\n"
     ]
    },
    {
     "data": {
      "image/png": "[encoded data removed]",
      "text/plain": [
       "<matplotlib.figure.Figure at 0x1159f1390>"
      ]
     },
     "metadata": {},
     "output_type": "display_data"
    }
   ],
   "source": [
    "df = pd.read_csv(\"data/imp_R_regr_RSS.csv\")\n",
    "df\n",
    "\n",
    "df = df.rename(columns={ df.columns[1]: \"Importance\" })\n",
    "\n",
    "df = df.rename(columns={ df.columns[0]: \"Feature\" })\n",
    "df\n",
    "\n",
    "sort = df.sort_values(df.columns[1], ascending = True)\n",
    "#sort = sort.drop(sort.columns[0], axis=1)\n",
    "sort\n",
    "\n",
    "plot_importances(sort, scalefig=(1.0,0.8), save='../article/images/R_regr_RSS_random.svg')"
   ]
  },
  {
   "cell_type": "markdown",
   "metadata": {},
   "source": [
    "## Regression - drop"
   ]
  },
  {
   "cell_type": "code",
   "execution_count": 78,
   "metadata": {},
   "outputs": [
    {
     "name": "stderr",
     "output_type": "stream",
     "text": [
      "/Users/chrispaul/anaconda2/lib/python2.7/site-packages/ipykernel_launcher.py:12: DeprecationWarning: \n",
      ".ix is deprecated. Please use\n",
      ".loc for label based indexing or\n",
      ".iloc for positional indexing\n",
      "\n",
      "See the documentation here:\n",
      "http://pandas.pydata.org/pandas-docs/stable/indexing.html#deprecate_ix\n",
      "  if sys.path[0] == '':\n"
     ]
    },
    {
     "data": {
      "image/png": "[encoded data removed]",
      "text/plain": [
       "<matplotlib.figure.Figure at 0x1159d9e90>"
      ]
     },
     "metadata": {},
     "output_type": "display_data"
    }
   ],
   "source": [
    "df = pd.read_csv(\"data/imp_R_regr_drop.csv\")\n",
    "df\n",
    "\n",
    "df = df.drop(df.columns[0], axis=1)\n",
    "\n",
    "df = df.rename(columns={ df.columns[1]: \"Importance\" })\n",
    "\n",
    "df = df.rename(columns={ df.columns[0]: \"Feature\" })\n",
    "df\n",
    "\n",
    "sort = df.sort_values(df.columns[1], ascending = True)\n",
    "#sort = sort.drop(sort.columns[0], axis=1)\n",
    "sort\n",
    "\n",
    "plot_importances(sort, scalefig=(1.0,0.8), save='../article/images/R_regr_drop_random.svg')"
   ]
  },
  {
   "cell_type": "code",
   "execution_count": null,
   "metadata": {
    "collapsed": true
   },
   "outputs": [],
   "source": []
  }
 ],
 "metadata": {
  "kernelspec": {
   "display_name": "Python 2",
   "language": "python",
   "name": "python2"
  },
  "language_info": {
   "codemirror_mode": {
    "name": "ipython",
    "version": 2
   },
   "file_extension": ".py",
   "mimetype": "text/x-python",
   "name": "python",
   "nbconvert_exporter": "python",
   "pygments_lexer": "ipython2",
   "version": "2.7.14"
  }
 },
 "nbformat": 4,
 "nbformat_minor": 2
}
