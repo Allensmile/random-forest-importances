{
 "cells": [
  {
   "cell_type": "code",
   "execution_count": 2,
   "metadata": {},
   "outputs": [],
   "source": [
    "import pandas as pd\n",
    "import matplotlib.pyplot as plt\n",
    "import numpy as np\n",
    "from sklearn.ensemble import RandomForestRegressor\n",
    "from sklearn.base import clone\n",
    "\n",
    "def plot_importances(columns,importances,figsize=None, ax=None, save=None):\n",
    "    I = pd.DataFrame(data={'Feature':columns, 'Importance':importances})\n",
    "    I = I.set_index('Feature')\n",
    "    I = I.sort_values('Importance', ascending=True)\n",
    "    I.plot(kind='barh', figsize=figsize, legend=False, ax=ax, fontsize=14)\n",
    "    plt.tight_layout()\n",
    "    if save:\n",
    "        plt.savefig(save)\n",
    "    plt.show()"
   ]
  },
  {
   "cell_type": "code",
   "execution_count": 3,
   "metadata": {},
   "outputs": [
    {
     "data": {
      "text/html": [
       "<div>\n",
       "<style scoped>\n",
       "    .dataframe tbody tr th:only-of-type {\n",
       "        vertical-align: middle;\n",
       "    }\n",
       "\n",
       "    .dataframe tbody tr th {\n",
       "        vertical-align: top;\n",
       "    }\n",
       "\n",
       "    .dataframe thead th {\n",
       "        text-align: right;\n",
       "    }\n",
       "</style>\n",
       "<table border=\"1\" class=\"dataframe\">\n",
       "  <thead>\n",
       "    <tr style=\"text-align: right;\">\n",
       "      <th></th>\n",
       "      <th>bathrooms</th>\n",
       "      <th>bedrooms</th>\n",
       "      <th>longitude</th>\n",
       "      <th>latitude</th>\n",
       "      <th>price</th>\n",
       "    </tr>\n",
       "  </thead>\n",
       "  <tbody>\n",
       "    <tr>\n",
       "      <th>0</th>\n",
       "      <td>1.5</td>\n",
       "      <td>3</td>\n",
       "      <td>-73.9425</td>\n",
       "      <td>40.7145</td>\n",
       "      <td>8.006368</td>\n",
       "    </tr>\n",
       "    <tr>\n",
       "      <th>1</th>\n",
       "      <td>1.0</td>\n",
       "      <td>2</td>\n",
       "      <td>-73.9667</td>\n",
       "      <td>40.7947</td>\n",
       "      <td>8.606119</td>\n",
       "    </tr>\n",
       "    <tr>\n",
       "      <th>2</th>\n",
       "      <td>1.0</td>\n",
       "      <td>1</td>\n",
       "      <td>-74.0018</td>\n",
       "      <td>40.7388</td>\n",
       "      <td>7.955074</td>\n",
       "    </tr>\n",
       "    <tr>\n",
       "      <th>3</th>\n",
       "      <td>1.0</td>\n",
       "      <td>1</td>\n",
       "      <td>-73.9677</td>\n",
       "      <td>40.7539</td>\n",
       "      <td>8.094073</td>\n",
       "    </tr>\n",
       "    <tr>\n",
       "      <th>4</th>\n",
       "      <td>1.0</td>\n",
       "      <td>4</td>\n",
       "      <td>-73.9493</td>\n",
       "      <td>40.8241</td>\n",
       "      <td>8.116716</td>\n",
       "    </tr>\n",
       "  </tbody>\n",
       "</table>\n",
       "</div>"
      ],
      "text/plain": [
       "   bathrooms  bedrooms  longitude  latitude     price\n",
       "0        1.5         3   -73.9425   40.7145  8.006368\n",
       "1        1.0         2   -73.9667   40.7947  8.606119\n",
       "2        1.0         1   -74.0018   40.7388  7.955074\n",
       "3        1.0         1   -73.9677   40.7539  8.094073\n",
       "4        1.0         4   -73.9493   40.8241  8.116716"
      ]
     },
     "execution_count": 3,
     "metadata": {},
     "output_type": "execute_result"
    }
   ],
   "source": [
    "df = pd.read_csv(\"data/rent.csv\")\n",
    "features = ['bathrooms','bedrooms','longitude','latitude',\n",
    "            'price']\n",
    "df = df[features].copy()\n",
    "df['price'] = np.log(df['price'])\n",
    "df.head(5)"
   ]
  },
  {
   "cell_type": "markdown",
   "metadata": {},
   "source": [
    "# Built-in scikit importances"
   ]
  },
  {
   "cell_type": "code",
   "execution_count": 4,
   "metadata": {},
   "outputs": [
    {
     "name": "stdout",
     "output_type": "stream",
     "text": [
      "0.876191749836\n"
     ]
    },
    {
     "data": {
      "image/png": "[encoded data removed]",
      "text/plain": [
       "<matplotlib.figure.Figure at 0x1a0d622f60>"
      ]
     },
     "metadata": {},
     "output_type": "display_data"
    },
    {
     "data": {
      "image/png": "[encoded data removed]",
      "text/plain": [
       "<matplotlib.figure.Figure at 0x1a0f3a2630>"
      ]
     },
     "metadata": {},
     "output_type": "display_data"
    }
   ],
   "source": [
    "base_rf = RandomForestRegressor(n_estimators=100,\n",
    "                                min_samples_leaf=1,\n",
    "                                n_jobs=-1,\n",
    "                                oob_score=True)\n",
    "\n",
    "X_train, y_train = df.drop('price',axis=1), df['price']\n",
    "rf = clone(base_rf)\n",
    "rf.fit(X_train, y_train)\n",
    "print(rf.oob_score_)\n",
    "\n",
    "plot_importances(X_train.columns,rf.feature_importances_, save='regr_dflt.svg')\n",
    "\n",
    "X_train2 = X_train.copy()\n",
    "X_train2['random'] = np.random.random(size=len(X_train))\n",
    "rf2 = clone(base_rf)\n",
    "rf2.fit(X_train2, y_train)\n",
    "plot_importances(X_train2.columns,rf2.feature_importances_, save='regr_dflt_random.svg')"
   ]
  },
  {
   "cell_type": "markdown",
   "metadata": {},
   "source": [
    "## Examine cost of dropping columns"
   ]
  },
  {
   "cell_type": "code",
   "execution_count": 5,
   "metadata": {},
   "outputs": [],
   "source": [
    "from sklearn.base import clone\n",
    "\n",
    "# max_features=n_features for regressors but sqrt for classifiers\n",
    "\n",
    "def dropcol_importances(rf, X_train, y_train):\n",
    "    rf_ = clone(rf)\n",
    "    rf_.random_state = 999\n",
    "    rf_.fit(X_train, y_train)\n",
    "    baseline = rf_.oob_score_\n",
    "    imp = []\n",
    "    for col in X_train.columns:\n",
    "        X = X_train.drop(col, axis=1)\n",
    "        rf_ = clone(rf)\n",
    "        rf_.random_state = 999\n",
    "        rf_.fit(X, y_train)\n",
    "        o = rf_.oob_score_\n",
    "        imp.append(baseline - o)\n",
    "    return np.array(imp)"
   ]
  },
  {
   "cell_type": "code",
   "execution_count": 6,
   "metadata": {},
   "outputs": [
    {
     "name": "stdout",
     "output_type": "stream",
     "text": [
      "oob R^2 score is 0.8775214604519737\n",
      "bathrooms : R^2 score 0.8775 - 0.8434 = 0.0341\n",
      "bedrooms  : R^2 score 0.8775 - 0.7927 = 0.0848\n",
      "longitude : R^2 score 0.8775 - 0.7435 = 0.1340\n",
      "latitude  : R^2 score 0.8775 - 0.7504 = 0.1272\n"
     ]
    },
    {
     "data": {
      "image/png": "[encoded data removed]",
      "text/plain": [
       "<matplotlib.figure.Figure at 0x1a0f3bb7f0>"
      ]
     },
     "metadata": {},
     "output_type": "display_data"
    },
    {
     "name": "stdout",
     "output_type": "stream",
     "text": [
      "oob R^2 score is 0.8616176141375539\n",
      "bathrooms : R^2 score 0.8616 - 0.8206 = 0.0410\n",
      "bedrooms  : R^2 score 0.8616 - 0.7555 = 0.1062\n",
      "longitude : R^2 score 0.8616 - 0.6957 = 0.1659\n",
      "latitude  : R^2 score 0.8616 - 0.6971 = 0.1645\n",
      "random    : R^2 score 0.8616 - 0.8775 = -0.0159\n"
     ]
    },
    {
     "data": {
      "image/png": "[encoded data removed]",
      "text/plain": [
       "<matplotlib.figure.Figure at 0x1a0f3c24a8>"
      ]
     },
     "metadata": {},
     "output_type": "display_data"
    }
   ],
   "source": [
    "base_rf = RandomForestRegressor(n_estimators=100,\n",
    "                                min_samples_leaf=1,\n",
    "                                n_jobs=-1,\n",
    "                                oob_score=True,\n",
    "                                random_state = 999) # same boostrapping samples\n",
    "\n",
    "X_train, y_train = df.drop('price',axis=1), df['price']\n",
    "rf = clone(base_rf)\n",
    "\n",
    "plot_importances(X_train.columns, \n",
    "                 dropcol_importances(rf, X_train, y_train),\n",
    "                 save='regr_dropcol.svg')\n",
    "\n",
    "X_train, y_train = df.drop('price',axis=1), df['price']\n",
    "X_train2 = X_train.copy()\n",
    "X_train2['random'] = np.random.random(size=len(X_train))\n",
    "rf2 = clone(base_rf)\n",
    "plot_importances(X_train2.columns,\n",
    "                 dropcol_importances(rf2, X_train2, y_train),\n",
    "                 save='regr_dropcol_random.svg')"
   ]
  },
  {
   "cell_type": "markdown",
   "metadata": {},
   "source": [
    "# Roll your own OOB R^2 score"
   ]
  },
  {
   "cell_type": "code",
   "execution_count": 7,
   "metadata": {},
   "outputs": [],
   "source": [
    "from sklearn.ensemble.forest import _generate_unsampled_indices\n",
    "from sklearn.metrics import r2_score\n",
    "import warnings\n",
    "\n",
    "# TODO: add arg for subsample size to compute oob score\n",
    "\n",
    "def oob_regression_r2_score(rf, X_train, y_train):\n",
    "    X = X_train.values\n",
    "    y = y_train.values\n",
    "\n",
    "    n_samples = len(X)\n",
    "    n_classes = len(np.unique(y))\n",
    "    predictions = np.zeros(n_samples)\n",
    "    n_predictions = np.zeros(n_samples)\n",
    "    for tree in rf.estimators_:\n",
    "        unsampled_indices = _generate_unsampled_indices(tree.random_state, n_samples)\n",
    "        tree_preds = tree.predict(X[unsampled_indices, :])\n",
    "        predictions[unsampled_indices] += tree_preds\n",
    "        n_predictions[unsampled_indices] += 1\n",
    "\n",
    "    if (n_predictions == 0).any():\n",
    "        warnings.warn(\"Too few trees; some variables do not have OOB scores.\")\n",
    "        n_predictions[n_predictions == 0] = 1\n",
    "\n",
    "    predictions /= n_predictions\n",
    "    \n",
    "    oob_score = r2_score(y, predictions)\n",
    "    return oob_score"
   ]
  },
  {
   "cell_type": "markdown",
   "metadata": {},
   "source": [
    "# Permutation importance"
   ]
  },
  {
   "cell_type": "code",
   "execution_count": 8,
   "metadata": {},
   "outputs": [],
   "source": [
    "def permutation_importances(rf, X_train, y_train, metric):\n",
    "    \"\"\"\n",
    "    Return importances from pre-fit rf; this function\n",
    "    works for regressors and classifiers. The metric\n",
    "    arg is function that measures accuracy or R^2 or\n",
    "    similar; it should use the out-of-bag samples from\n",
    "    training set.\n",
    "    \"\"\"\n",
    "    baseline = metric(rf, X_train, y_train)\n",
    "    imp = []\n",
    "    for col in X_train.columns:\n",
    "        save = X_train[col].copy()\n",
    "        X_train[col] = np.random.permutation(X_train[col])\n",
    "        m = metric(rf, X_train, y_train)\n",
    "        X_train[col] = save\n",
    "        imp.append(baseline - m)\n",
    "    return np.array(imp)"
   ]
  },
  {
   "cell_type": "code",
   "execution_count": 9,
   "metadata": {},
   "outputs": [
    {
     "data": {
      "image/png": "[encoded data removed]",
      "text/plain": [
       "<matplotlib.figure.Figure at 0x1a0f3a2d30>"
      ]
     },
     "metadata": {},
     "output_type": "display_data"
    },
    {
     "data": {
      "image/png": "[encoded data removed]",
      "text/plain": [
       "<matplotlib.figure.Figure at 0x1a0eaa1ba8>"
      ]
     },
     "metadata": {},
     "output_type": "display_data"
    }
   ],
   "source": [
    "X_train, y_train = df.drop('price',axis=1), df['price']\n",
    "\n",
    "base_rf = RandomForestRegressor(n_estimators=100,\n",
    "                                min_samples_leaf=1,\n",
    "                                n_jobs=-1,\n",
    "                                max_features=len(X_train.columns),\n",
    "                                oob_score=True,\n",
    "                                random_state = 999) # same boostrapping samples\n",
    "\n",
    "rf = clone(base_rf)\n",
    "rf.fit(X_train, y_train)\n",
    "\n",
    "imp = permutation_importances(rf, X_train, y_train,\n",
    "                              oob_regression_r2_score)\n",
    "plot_importances(X_train.columns,\n",
    "                 imp,\n",
    "                 save='regr_permute.svg')\n",
    "\n",
    "X_train2 = X_train.copy()\n",
    "X_train2['random'] = np.random.random(size=len(X_train))\n",
    "rf2 = clone(base_rf)\n",
    "rf2.fit(X_train2, y_train)\n",
    "\n",
    "imp = permutation_importances(rf2, X_train2, y_train,\n",
    "                              oob_regression_r2_score)\n",
    "plot_importances(X_train2.columns,\n",
    "                 imp,\n",
    "                 save='regr_permute_random.svg')"
   ]
  }
 ],
 "metadata": {
  "kernelspec": {
   "display_name": "Python 3",
   "language": "python",
   "name": "python3"
  },
  "language_info": {
   "codemirror_mode": {
    "name": "ipython",
    "version": 3
   },
   "file_extension": ".py",
   "mimetype": "text/x-python",
   "name": "python",
   "nbconvert_exporter": "python",
   "pygments_lexer": "ipython3",
   "version": "3.6.4"
  }
 },
 "nbformat": 4,
 "nbformat_minor": 2
}
