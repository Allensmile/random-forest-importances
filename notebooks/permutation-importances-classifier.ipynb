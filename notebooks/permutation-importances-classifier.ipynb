{
 "cells": [
  {
   "cell_type": "code",
   "execution_count": 3,
   "metadata": {},
   "outputs": [],
   "source": [
    "import pandas as pd\n",
    "import matplotlib.pyplot as plt\n",
    "import numpy as np\n",
    "from sklearn.ensemble import RandomForestClassifier\n",
    "from sklearn.model_selection import cross_val_score\n",
    "from sklearn.base import clone\n",
    "\n",
    "def plot_importances(columns,importances,figsize=None, ax=None, save=None):\n",
    "    I = pd.DataFrame(data={'Feature':columns, 'Importance':importances})\n",
    "    I = I.set_index('Feature')\n",
    "    I = I.sort_values('Importance', ascending=True)\n",
    "    I.plot(kind='barh', figsize=figsize, legend=False, ax=ax, fontsize=14)\n",
    "    plt.tight_layout()\n",
    "    if save:\n",
    "        plt.savefig(save)\n",
    "    plt.show()"
   ]
  },
  {
   "cell_type": "code",
   "execution_count": 4,
   "metadata": {},
   "outputs": [
    {
     "data": {
      "text/html": [
       "<div>\n",
       "<style scoped>\n",
       "    .dataframe tbody tr th:only-of-type {\n",
       "        vertical-align: middle;\n",
       "    }\n",
       "\n",
       "    .dataframe tbody tr th {\n",
       "        vertical-align: top;\n",
       "    }\n",
       "\n",
       "    .dataframe thead th {\n",
       "        text-align: right;\n",
       "    }\n",
       "</style>\n",
       "<table border=\"1\" class=\"dataframe\">\n",
       "  <thead>\n",
       "    <tr style=\"text-align: right;\">\n",
       "      <th></th>\n",
       "      <th>bathrooms</th>\n",
       "      <th>bedrooms</th>\n",
       "      <th>price</th>\n",
       "      <th>longitude</th>\n",
       "      <th>latitude</th>\n",
       "      <th>interest_level</th>\n",
       "    </tr>\n",
       "  </thead>\n",
       "  <tbody>\n",
       "    <tr>\n",
       "      <th>0</th>\n",
       "      <td>1.5</td>\n",
       "      <td>3</td>\n",
       "      <td>3000</td>\n",
       "      <td>-73.9425</td>\n",
       "      <td>40.7145</td>\n",
       "      <td>2</td>\n",
       "    </tr>\n",
       "    <tr>\n",
       "      <th>1</th>\n",
       "      <td>1.0</td>\n",
       "      <td>2</td>\n",
       "      <td>5465</td>\n",
       "      <td>-73.9667</td>\n",
       "      <td>40.7947</td>\n",
       "      <td>1</td>\n",
       "    </tr>\n",
       "    <tr>\n",
       "      <th>2</th>\n",
       "      <td>1.0</td>\n",
       "      <td>1</td>\n",
       "      <td>2850</td>\n",
       "      <td>-74.0018</td>\n",
       "      <td>40.7388</td>\n",
       "      <td>3</td>\n",
       "    </tr>\n",
       "    <tr>\n",
       "      <th>3</th>\n",
       "      <td>1.0</td>\n",
       "      <td>1</td>\n",
       "      <td>3275</td>\n",
       "      <td>-73.9677</td>\n",
       "      <td>40.7539</td>\n",
       "      <td>1</td>\n",
       "    </tr>\n",
       "    <tr>\n",
       "      <th>4</th>\n",
       "      <td>1.0</td>\n",
       "      <td>4</td>\n",
       "      <td>3350</td>\n",
       "      <td>-73.9493</td>\n",
       "      <td>40.8241</td>\n",
       "      <td>1</td>\n",
       "    </tr>\n",
       "  </tbody>\n",
       "</table>\n",
       "</div>"
      ],
      "text/plain": [
       "   bathrooms  bedrooms  price  longitude  latitude  interest_level\n",
       "0        1.5         3   3000   -73.9425   40.7145               2\n",
       "1        1.0         2   5465   -73.9667   40.7947               1\n",
       "2        1.0         1   2850   -74.0018   40.7388               3\n",
       "3        1.0         1   3275   -73.9677   40.7539               1\n",
       "4        1.0         4   3350   -73.9493   40.8241               1"
      ]
     },
     "execution_count": 4,
     "metadata": {},
     "output_type": "execute_result"
    }
   ],
   "source": [
    "df = pd.read_csv(\"data/rent.csv\")\n",
    "features = ['bathrooms','bedrooms','price','longitude','latitude',\n",
    "            'interest_level']\n",
    "df = df[features].copy()\n",
    "df.to_csv(\"data/rent-numeric.csv\", index=False)\n",
    "df.head(5)"
   ]
  },
  {
   "cell_type": "markdown",
   "metadata": {},
   "source": [
    "# Built-in scikit importances"
   ]
  },
  {
   "cell_type": "code",
   "execution_count": 5,
   "metadata": {},
   "outputs": [
    {
     "name": "stdout",
     "output_type": "stream",
     "text": [
      "0.718289025774\n"
     ]
    },
    {
     "data": {
      "image/png": "[encoded data removed]",
      "text/plain": [
       "<matplotlib.figure.Figure at 0x1a0b48cac8>"
      ]
     },
     "metadata": {},
     "output_type": "display_data"
    },
    {
     "name": "stdout",
     "output_type": "stream",
     "text": [
      "0.713588101799\n"
     ]
    },
    {
     "data": {
      "image/png": "[encoded data removed]",
      "text/plain": [
       "<matplotlib.figure.Figure at 0x1a0cc75e48>"
      ]
     },
     "metadata": {},
     "output_type": "display_data"
    }
   ],
   "source": [
    "base_rf = RandomForestClassifier(n_estimators=100,\n",
    "                                 min_samples_leaf=5,\n",
    "                                 n_jobs=-1,\n",
    "                                 oob_score=True)\n",
    "\n",
    "X_train, y_train = df.drop('interest_level',axis=1), df['interest_level']\n",
    "\n",
    "rf = clone(base_rf)\n",
    "rf.fit(X_train, y_train)\n",
    "print(rf.oob_score_)\n",
    "plot_importances(X_train.columns,rf.feature_importances_,\n",
    "                 save='cls_dflt.svg')\n",
    "\n",
    "X_train2 = X_train.copy()\n",
    "X_train2['random'] = np.random.random(size=len(X_train2))\n",
    "rf2 = clone(base_rf)\n",
    "rf2.fit(X_train2, y_train)\n",
    "print(rf2.oob_score_)\n",
    "plot_importances(X_train2.columns,rf2.feature_importances_,\n",
    "                 save='cls_dflt_random.svg')"
   ]
  },
  {
   "cell_type": "markdown",
   "metadata": {},
   "source": [
    "# Importances via dropping columns and retraining"
   ]
  },
  {
   "cell_type": "code",
   "execution_count": 8,
   "metadata": {},
   "outputs": [],
   "source": [
    "def dropcol_importances(rf, X_train, y_train):\n",
    "    rf_ = clone(rf)\n",
    "    rf_.random_state = 999\n",
    "    rf_.fit(X_train, y_train)\n",
    "    baseline = rf_.oob_score_\n",
    "    imp = []\n",
    "    for col in X_train.columns:\n",
    "        X = X_train.drop(col, axis=1)\n",
    "        rf_ = clone(rf)\n",
    "        rf_.random_state = 999\n",
    "        rf_.fit(X, y_train)\n",
    "        o = rf_.oob_score_\n",
    "        imp.append(baseline - o)\n",
    "    return np.array(imp)\n",
    "\n",
    "def classifier_dropping_importances_cv(rf, X_train, y_train, k=5):\n",
    "    rf_ = clone(rf)\n",
    "    rf.random_state = 999\n",
    "    rf_.fit(X_train, y_train)\n",
    "    \n",
    "    cvscore = cross_val_score(clone(rf), X_train, y_train, cv=k, scoring='accuracy')\n",
    "    m_base = cvscore.mean()\n",
    "    print(f\"{k}-fold cross-validation accuracy {m_base:.4f}\")\n",
    "                              \n",
    "    imp = []\n",
    "    for col in X_train.columns:\n",
    "        X = X_train.drop(col, axis=1)\n",
    "        rf_ = clone(rf)\n",
    "        rf_.random_state = 999\n",
    "        rf_.fit(X, y_train)\n",
    "        \n",
    "        cvscore = cross_val_score(clone(rf_), X, y_train, cv=5, scoring='accuracy')\n",
    "        m = cvscore.mean()\n",
    "        print(f\"drop {col} {k}-fold cross-validation accuracy {m:.4f}\")\n",
    "        imp.append(m_base - m)\n",
    "        \n",
    "    return np.array(imp)"
   ]
  },
  {
   "cell_type": "code",
   "execution_count": null,
   "metadata": {},
   "outputs": [],
   "source": [
    "# max_features=n_features for regressors but sqrt for classifiers\n",
    "\n",
    "X_train, y_train = df.drop('interest_level',axis=1), df['interest_level']\n",
    "rf = clone(base_rf)\n",
    "plot_importances(X_train.columns, \n",
    "                 dropcol_importances(rf, X_train, y_train),\n",
    "                 save='cls_dropcol.svg')\n",
    "\n",
    "X_train, y_train = df.drop('interest_level',axis=1), df['interest_level']\n",
    "X_train2 = X_train.copy()\n",
    "X_train2['random'] = np.random.random(size=len(X_train))\n",
    "rf2 = clone(base_rf)\n",
    "plot_importances(X_train2.columns,\n",
    "                 dropcol_importances(rf2, X_train2, y_train),\n",
    "                 save='cls_dropcol_random.svg')"
   ]
  },
  {
   "cell_type": "markdown",
   "metadata": {},
   "source": [
    "# Importances via column permutation"
   ]
  },
  {
   "cell_type": "code",
   "execution_count": null,
   "metadata": {},
   "outputs": [],
   "source": [
    "from sklearn.ensemble.forest import _generate_unsampled_indices\n",
    "\n",
    "# TODO: add arg for subsample size to compute oob score\n",
    "\n",
    "def oob_classifier_accuracy(rf, X_train, y_train):\n",
    "    X = X_train.values\n",
    "    y = y_train.values\n",
    "\n",
    "    n_samples = len(X)\n",
    "    n_classes = len(np.unique(y))\n",
    "    predictions = np.zeros((n_samples, n_classes))\n",
    "    for tree in rf.estimators_:\n",
    "        unsampled_indices = _generate_unsampled_indices(tree.random_state, n_samples)\n",
    "        tree_preds = tree.predict_proba(X[unsampled_indices, :])\n",
    "        predictions[unsampled_indices] += tree_preds\n",
    "\n",
    "    predicted_class_indexes = np.argmax(predictions, axis=1)\n",
    "    predicted_classes = [rf.classes_[i] for i in predicted_class_indexes]\n",
    "\n",
    "    oob_score = np.mean(y == predicted_classes)\n",
    "    return oob_score\n",
    "\n",
    "def permutation_importances(rf, X_train, y_train, metric):\n",
    "    \"\"\"\n",
    "    Return importances from pre-fit rf; metric is function\n",
    "    that measures accuracy or R^2 or similar. This function\n",
    "    works for regressors and classifiers.\n",
    "    \"\"\"\n",
    "    baseline = metric(rf, X_train, y_train)\n",
    "    imp = []\n",
    "    for col in X_train.columns:\n",
    "        save = X_train[col].copy()\n",
    "        X_train[col] = np.random.permutation(X_train[col])\n",
    "        m = metric(rf, X_train, y_train)\n",
    "        X_train[col] = save\n",
    "        imp.append(baseline - m)\n",
    "    return np.array(imp)"
   ]
  },
  {
   "cell_type": "code",
   "execution_count": null,
   "metadata": {},
   "outputs": [],
   "source": [
    "X_train, y_train = df.drop('interest_level',axis=1), df['interest_level']\n",
    "rf = clone(base_rf)\n",
    "rf.fit(X_train, y_train)\n",
    "oob = oob_classifier_accuracy(rf, X_train, y_train)\n",
    "print(\"oob accuracy\",oob)\n",
    "\n",
    "imp = permutation_importances(rf, X_train, y_train,\n",
    "                              oob_classifier_accuracy)\n",
    "plot_importances(X_train.columns, \n",
    "                 imp,\n",
    "                 save='cls_permute.svg')\n",
    "\n",
    "X_train2 = X_train.copy()\n",
    "X_train2['random'] = np.random.random(size=len(X_train))\n",
    "rf2 = clone(base_rf)\n",
    "rf2.fit(X_train2, y_train)\n",
    "\n",
    "imp = permutation_importances(rf2, X_train2, y_train,\n",
    "                            oob_classifier_accuracy)\n",
    "plot_importances(X_train2.columns,\n",
    "                 imp,\n",
    "                 save='cls_permute_random.svg')"
   ]
  }
 ],
 "metadata": {
  "kernelspec": {
   "display_name": "Python 3",
   "language": "python",
   "name": "python3"
  },
  "language_info": {
   "codemirror_mode": {
    "name": "ipython",
    "version": 3
   },
   "file_extension": ".py",
   "mimetype": "text/x-python",
   "name": "python",
   "nbconvert_exporter": "python",
   "pygments_lexer": "ipython3",
   "version": "3.6.3"
  }
 },
 "nbformat": 4,
 "nbformat_minor": 2
}
