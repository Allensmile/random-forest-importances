{
 "cells": [
  {
   "cell_type": "code",
   "execution_count": 14,
   "metadata": {},
   "outputs": [],
   "source": [
    "import pandas as pd\n",
    "import matplotlib.pyplot as plt\n",
    "import numpy as np\n",
    "from sklearn.ensemble import RandomForestRegressor\n",
    "from sklearn.base import clone\n",
    "\n",
    "def plot_importances(columns,importances,figsize=None, ax=None, save=None):\n",
    "    I = pd.DataFrame(data={'Feature':columns, 'Importance':importances})\n",
    "    I = I.set_index('Feature')\n",
    "    I = I.sort_values('Importance', ascending=True)\n",
    "    I.plot(kind='barh', figsize=figsize, legend=False, ax=ax, fontsize=14)\n",
    "    plt.tight_layout()\n",
    "    if save:\n",
    "        plt.savefig(save)\n",
    "    plt.show()"
   ]
  },
  {
   "cell_type": "code",
   "execution_count": 4,
   "metadata": {},
   "outputs": [
    {
     "data": {
      "text/html": [
       "<div>\n",
       "<style>\n",
       "    .dataframe thead tr:only-child th {\n",
       "        text-align: right;\n",
       "    }\n",
       "\n",
       "    .dataframe thead th {\n",
       "        text-align: left;\n",
       "    }\n",
       "\n",
       "    .dataframe tbody tr th {\n",
       "        vertical-align: top;\n",
       "    }\n",
       "</style>\n",
       "<table border=\"1\" class=\"dataframe\">\n",
       "  <thead>\n",
       "    <tr style=\"text-align: right;\">\n",
       "      <th></th>\n",
       "      <th>bathrooms</th>\n",
       "      <th>bedrooms</th>\n",
       "      <th>longitude</th>\n",
       "      <th>latitude</th>\n",
       "      <th>price</th>\n",
       "    </tr>\n",
       "  </thead>\n",
       "  <tbody>\n",
       "    <tr>\n",
       "      <th>0</th>\n",
       "      <td>1.5</td>\n",
       "      <td>3</td>\n",
       "      <td>-73.9425</td>\n",
       "      <td>40.7145</td>\n",
       "      <td>8.006368</td>\n",
       "    </tr>\n",
       "    <tr>\n",
       "      <th>1</th>\n",
       "      <td>1.0</td>\n",
       "      <td>2</td>\n",
       "      <td>-73.9667</td>\n",
       "      <td>40.7947</td>\n",
       "      <td>8.606119</td>\n",
       "    </tr>\n",
       "    <tr>\n",
       "      <th>2</th>\n",
       "      <td>1.0</td>\n",
       "      <td>1</td>\n",
       "      <td>-74.0018</td>\n",
       "      <td>40.7388</td>\n",
       "      <td>7.955074</td>\n",
       "    </tr>\n",
       "    <tr>\n",
       "      <th>3</th>\n",
       "      <td>1.0</td>\n",
       "      <td>1</td>\n",
       "      <td>-73.9677</td>\n",
       "      <td>40.7539</td>\n",
       "      <td>8.094073</td>\n",
       "    </tr>\n",
       "    <tr>\n",
       "      <th>4</th>\n",
       "      <td>1.0</td>\n",
       "      <td>4</td>\n",
       "      <td>-73.9493</td>\n",
       "      <td>40.8241</td>\n",
       "      <td>8.116716</td>\n",
       "    </tr>\n",
       "  </tbody>\n",
       "</table>\n",
       "</div>"
      ],
      "text/plain": [
       "   bathrooms  bedrooms  longitude  latitude     price\n",
       "0        1.5         3   -73.9425   40.7145  8.006368\n",
       "1        1.0         2   -73.9667   40.7947  8.606119\n",
       "2        1.0         1   -74.0018   40.7388  7.955074\n",
       "3        1.0         1   -73.9677   40.7539  8.094073\n",
       "4        1.0         4   -73.9493   40.8241  8.116716"
      ]
     },
     "execution_count": 4,
     "metadata": {},
     "output_type": "execute_result"
    }
   ],
   "source": [
    "df = pd.read_csv(\"data/rent.csv\")\n",
    "features = ['bathrooms','bedrooms','longitude','latitude',\n",
    "            'price']\n",
    "df = df[features].copy()\n",
    "df['price'] = np.log(df['price'])\n",
    "df.head(5)"
   ]
  },
  {
   "cell_type": "markdown",
   "metadata": {},
   "source": [
    "# Built-in scikit importances"
   ]
  },
  {
   "cell_type": "code",
   "execution_count": 16,
   "metadata": {},
   "outputs": [
    {
     "name": "stdout",
     "output_type": "stream",
     "text": [
      "0.875675457186\n"
     ]
    },
    {
     "data": {
      "image/png": "[encoded data removed]",
      "text/plain": [
       "<matplotlib.figure.Figure at 0x121e52d30>"
      ]
     },
     "metadata": {},
     "output_type": "display_data"
    },
    {
     "data": {
      "image/png": "[encoded data removed]",
      "text/plain": [
       "<matplotlib.figure.Figure at 0x122a57fd0>"
      ]
     },
     "metadata": {},
     "output_type": "display_data"
    }
   ],
   "source": [
    "base_rf = RandomForestRegressor(n_estimators=100,\n",
    "                                min_samples_leaf=1,\n",
    "                                n_jobs=-1,\n",
    "                                oob_score=True)\n",
    "\n",
    "X_train, y_train = df.drop('price',axis=1), df['price']\n",
    "rf = clone(base_rf)\n",
    "rf.fit(X_train, y_train)\n",
    "print(rf.oob_score_)\n",
    "\n",
    "plot_importances(X_train.columns,rf.feature_importances_, save='regr_dflt.svg')\n",
    "\n",
    "X_train2 = X_train.copy()\n",
    "X_train2['random'] = np.random.random(size=len(X_train))\n",
    "rf2 = clone(base_rf)\n",
    "rf2.fit(X_train2, y_train)\n",
    "plot_importances(X_train2.columns,rf2.feature_importances_, save='regr_dflt_random.svg')"
   ]
  },
  {
   "cell_type": "markdown",
   "metadata": {},
   "source": [
    "## Examine cost of dropping columns"
   ]
  },
  {
   "cell_type": "code",
   "execution_count": 6,
   "metadata": {},
   "outputs": [],
   "source": [
    "from sklearn.base import clone\n",
    "\n",
    "# max_features=n_features for regressors but sqrt for classifiers\n",
    "\n",
    "def regressor_dropping_importances(rf, X_train, y_train):\n",
    "    rf_ = clone(rf)\n",
    "    rf_.fit(X_train, y_train)\n",
    "    oob = rf_.oob_score_\n",
    "    print(f\"oob R^2 score is {oob}\")\n",
    "    imp = []\n",
    "    for col in X_train.columns:\n",
    "        X = X_train.copy().drop(col, axis=1)\n",
    "        rf_ = clone(rf)\n",
    "        rf_.fit(X, y_train)\n",
    "        o = rf_.oob_score_\n",
    "        print(f\"{col:10s}: R^2 score {oob:5.4f} - {o:5.4f} = {oob - o:5.4f}\")\n",
    "        imp.append(oob - o)\n",
    "    return np.array(imp)"
   ]
  },
  {
   "cell_type": "code",
   "execution_count": 17,
   "metadata": {},
   "outputs": [
    {
     "name": "stdout",
     "output_type": "stream",
     "text": [
      "oob R^2 score is 0.8775214604519737\n",
      "bathrooms : R^2 score 0.8775 - 0.8434 = 0.0341\n",
      "bedrooms  : R^2 score 0.8775 - 0.7927 = 0.0848\n",
      "longitude : R^2 score 0.8775 - 0.7435 = 0.1340\n",
      "latitude  : R^2 score 0.8775 - 0.7504 = 0.1272\n"
     ]
    },
    {
     "data": {
      "image/png": "[encoded data removed]",
      "text/plain": [
       "<matplotlib.figure.Figure at 0x121566e10>"
      ]
     },
     "metadata": {},
     "output_type": "display_data"
    },
    {
     "name": "stdout",
     "output_type": "stream",
     "text": [
      "oob R^2 score is 0.8618982229087627\n",
      "bathrooms : R^2 score 0.8619 - 0.8221 = 0.0398\n",
      "bedrooms  : R^2 score 0.8619 - 0.7539 = 0.1080\n",
      "longitude : R^2 score 0.8619 - 0.6905 = 0.1714\n",
      "latitude  : R^2 score 0.8619 - 0.6937 = 0.1682\n",
      "random    : R^2 score 0.8619 - 0.8775 = -0.0156\n"
     ]
    },
    {
     "data": {
      "image/png": "[encoded data removed]",
      "text/plain": [
       "<matplotlib.figure.Figure at 0x120fddac8>"
      ]
     },
     "metadata": {},
     "output_type": "display_data"
    }
   ],
   "source": [
    "base_rf = RandomForestRegressor(n_estimators=100,\n",
    "                                min_samples_leaf=1,\n",
    "                                n_jobs=-1,\n",
    "                                oob_score=True,\n",
    "                                random_state = 999) # same boostrapping samples\n",
    "\n",
    "X_train, y_train = df.drop('price',axis=1), df['price']\n",
    "rf = clone(base_rf)\n",
    "\n",
    "plot_importances(X_train.columns, \n",
    "                 regressor_dropping_importances(rf, X_train, y_train),\n",
    "                 save='regr_dropcol.svg')\n",
    "\n",
    "X_train, y_train = df.drop('price',axis=1), df['price']\n",
    "X_train2 = X_train.copy()\n",
    "X_train2['random'] = np.random.random(size=len(X_train))\n",
    "rf2 = clone(base_rf)\n",
    "plot_importances(X_train2.columns,\n",
    "                 regressor_dropping_importances(rf2, X_train2, y_train),\n",
    "                 save='regr_dropcol_random.svg')"
   ]
  },
  {
   "cell_type": "markdown",
   "metadata": {},
   "source": [
    "# Roll your own OOB R^2 score"
   ]
  },
  {
   "cell_type": "code",
   "execution_count": 8,
   "metadata": {},
   "outputs": [],
   "source": [
    "from sklearn.ensemble.forest import _generate_unsampled_indices\n",
    "from sklearn.metrics import r2_score\n",
    "import warnings\n",
    "\n",
    "# TODO: add arg for subsample size to compute oob score\n",
    "\n",
    "def oob_regression_r2_score(rf, X_train, y_train):\n",
    "    X = X_train.values\n",
    "    y = y_train.values\n",
    "\n",
    "    n_samples = len(X)\n",
    "    n_classes = len(np.unique(y))\n",
    "    predictions = np.zeros(n_samples)\n",
    "    n_predictions = np.zeros(n_samples)\n",
    "    for tree in rf.estimators_:\n",
    "        unsampled_indices = _generate_unsampled_indices(tree.random_state, n_samples)\n",
    "        tree_preds = tree.predict(X[unsampled_indices, :])\n",
    "        predictions[unsampled_indices] += tree_preds\n",
    "        n_predictions[unsampled_indices] += 1\n",
    "\n",
    "    if (n_predictions == 0).any():\n",
    "        warnings.warn(\"Too few trees; some variables do not have OOB scores.\")\n",
    "        n_predictions[n_predictions == 0] = 1\n",
    "\n",
    "    predictions /= n_predictions\n",
    "    \n",
    "    oob_score = r2_score(y, predictions)\n",
    "    return oob_score"
   ]
  },
  {
   "cell_type": "markdown",
   "metadata": {},
   "source": [
    "# Permutation importance"
   ]
  },
  {
   "cell_type": "code",
   "execution_count": 9,
   "metadata": {},
   "outputs": [],
   "source": [
    "def regression_permutation_importances(rf, X_train, y_train):\n",
    "    rf.fit(X_train, y_train)\n",
    "    oob = rf.oob_score_\n",
    "    imp = []\n",
    "    for col in X_train.columns:\n",
    "        save = X_train[col].copy()\n",
    "        X_train[col] = np.random.permutation(X_train[col])\n",
    "        o = oob_regression_r2_score(rf, X_train, y_train)\n",
    "        X_train[col] = save\n",
    "        print(f\"{col:10s}: r2 score {oob:5.4f} - {o:5.4f} = {oob - o:5.4f}\")\n",
    "        imp.append(oob - o)\n",
    "    return np.array(imp)"
   ]
  },
  {
   "cell_type": "code",
   "execution_count": 18,
   "metadata": {},
   "outputs": [
    {
     "name": "stdout",
     "output_type": "stream",
     "text": [
      "bathrooms : r2 score 0.8775 - 0.4448 = 0.4327\n",
      "bedrooms  : r2 score 0.8775 - 0.3721 = 0.5054\n",
      "longitude : r2 score 0.8775 - 0.3040 = 0.5735\n",
      "latitude  : r2 score 0.8775 - 0.3897 = 0.4879\n"
     ]
    },
    {
     "data": {
      "image/png": "[encoded data removed]",
      "text/plain": [
       "<matplotlib.figure.Figure at 0x122bc5c18>"
      ]
     },
     "metadata": {},
     "output_type": "display_data"
    },
    {
     "name": "stdout",
     "output_type": "stream",
     "text": [
      "bathrooms : r2 score 0.8613 - 0.4570 = 0.4043\n",
      "bedrooms  : r2 score 0.8613 - 0.3769 = 0.4844\n",
      "longitude : r2 score 0.8613 - 0.3631 = 0.4982\n",
      "latitude  : r2 score 0.8613 - 0.4441 = 0.4172\n",
      "random    : r2 score 0.8613 - 0.8608 = 0.0005\n"
     ]
    },
    {
     "data": {
      "image/png": "[encoded data removed]",
      "text/plain": [
       "<matplotlib.figure.Figure at 0x1226ab438>"
      ]
     },
     "metadata": {},
     "output_type": "display_data"
    }
   ],
   "source": [
    "X_train, y_train = df.drop('price',axis=1), df['price']\n",
    "\n",
    "base_rf = RandomForestRegressor(n_estimators=100,\n",
    "                                min_samples_leaf=1,\n",
    "                                n_jobs=-1,\n",
    "                                max_features=len(X_train.columns),\n",
    "                                oob_score=True,\n",
    "                                random_state = 999) # same boostrapping samples\n",
    "\n",
    "rf = clone(base_rf)\n",
    "rf.fit(X_train, y_train)\n",
    "plot_importances(X_train.columns,\n",
    "                 regression_permutation_importances(rf, X_train, y_train),\n",
    "                 save='regr_permute.svg')\n",
    "\n",
    "X_train2 = X_train.copy()\n",
    "X_train2['random'] = np.random.random(size=len(X_train))\n",
    "rf2 = clone(base_rf)\n",
    "rf2.fit(X_train2, y_train)\n",
    "\n",
    "plot_importances(X_train2.columns,\n",
    "                 regression_permutation_importances(rf2, X_train2, y_train),\n",
    "                 save='regr_permute_random.svg')"
   ]
  }
 ],
 "metadata": {
  "kernelspec": {
   "display_name": "Python 3",
   "language": "python",
   "name": "python3"
  },
  "language_info": {
   "codemirror_mode": {
    "name": "ipython",
    "version": 3
   },
   "file_extension": ".py",
   "mimetype": "text/x-python",
   "name": "python",
   "nbconvert_exporter": "python",
   "pygments_lexer": "ipython3",
   "version": "3.6.3"
  }
 },
 "nbformat": 4,
 "nbformat_minor": 2
}
