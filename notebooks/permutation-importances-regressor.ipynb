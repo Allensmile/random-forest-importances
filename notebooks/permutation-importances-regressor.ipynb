{
 "cells": [
  {
   "cell_type": "code",
   "execution_count": 2,
   "metadata": {},
   "outputs": [],
   "source": [
    "import pandas as pd\n",
    "import matplotlib.pyplot as plt\n",
    "import numpy as np\n",
    "from sklearn.ensemble import RandomForestRegressor\n",
    "from sklearn.base import clone\n",
    "\n",
    "def plot_importances(columns,importances,figsize=None, ax=None):\n",
    "    I = pd.DataFrame(data={'Feature':columns, 'Importance':importances})\n",
    "    I = I.set_index('Feature')\n",
    "    I = I.sort_values('Importance', ascending=True)\n",
    "    I.plot(kind='barh', figsize=figsize, legend=False, ax=ax, fontsize=14)"
   ]
  },
  {
   "cell_type": "code",
   "execution_count": 3,
   "metadata": {},
   "outputs": [
    {
     "data": {
      "text/html": [
       "<div>\n",
       "<style scoped>\n",
       "    .dataframe tbody tr th:only-of-type {\n",
       "        vertical-align: middle;\n",
       "    }\n",
       "\n",
       "    .dataframe tbody tr th {\n",
       "        vertical-align: top;\n",
       "    }\n",
       "\n",
       "    .dataframe thead th {\n",
       "        text-align: right;\n",
       "    }\n",
       "</style>\n",
       "<table border=\"1\" class=\"dataframe\">\n",
       "  <thead>\n",
       "    <tr style=\"text-align: right;\">\n",
       "      <th></th>\n",
       "      <th>bathrooms</th>\n",
       "      <th>bedrooms</th>\n",
       "      <th>longitude</th>\n",
       "      <th>latitude</th>\n",
       "      <th>price</th>\n",
       "    </tr>\n",
       "  </thead>\n",
       "  <tbody>\n",
       "    <tr>\n",
       "      <th>0</th>\n",
       "      <td>1.5</td>\n",
       "      <td>3</td>\n",
       "      <td>-73.9425</td>\n",
       "      <td>40.7145</td>\n",
       "      <td>8.006368</td>\n",
       "    </tr>\n",
       "    <tr>\n",
       "      <th>1</th>\n",
       "      <td>1.0</td>\n",
       "      <td>2</td>\n",
       "      <td>-73.9667</td>\n",
       "      <td>40.7947</td>\n",
       "      <td>8.606119</td>\n",
       "    </tr>\n",
       "    <tr>\n",
       "      <th>2</th>\n",
       "      <td>1.0</td>\n",
       "      <td>1</td>\n",
       "      <td>-74.0018</td>\n",
       "      <td>40.7388</td>\n",
       "      <td>7.955074</td>\n",
       "    </tr>\n",
       "    <tr>\n",
       "      <th>3</th>\n",
       "      <td>1.0</td>\n",
       "      <td>1</td>\n",
       "      <td>-73.9677</td>\n",
       "      <td>40.7539</td>\n",
       "      <td>8.094073</td>\n",
       "    </tr>\n",
       "    <tr>\n",
       "      <th>4</th>\n",
       "      <td>1.0</td>\n",
       "      <td>4</td>\n",
       "      <td>-73.9493</td>\n",
       "      <td>40.8241</td>\n",
       "      <td>8.116716</td>\n",
       "    </tr>\n",
       "  </tbody>\n",
       "</table>\n",
       "</div>"
      ],
      "text/plain": [
       "   bathrooms  bedrooms  longitude  latitude     price\n",
       "0        1.5         3   -73.9425   40.7145  8.006368\n",
       "1        1.0         2   -73.9667   40.7947  8.606119\n",
       "2        1.0         1   -74.0018   40.7388  7.955074\n",
       "3        1.0         1   -73.9677   40.7539  8.094073\n",
       "4        1.0         4   -73.9493   40.8241  8.116716"
      ]
     },
     "execution_count": 3,
     "metadata": {},
     "output_type": "execute_result"
    }
   ],
   "source": [
    "df = pd.read_csv(\"data/rent.csv\")\n",
    "features = ['bathrooms','bedrooms','longitude','latitude',\n",
    "            'price']\n",
    "df = df[features].copy()\n",
    "df['price'] = np.log(df['price'])\n",
    "df.head(5)"
   ]
  },
  {
   "cell_type": "markdown",
   "metadata": {},
   "source": [
    "# Built-in scikit importances"
   ]
  },
  {
   "cell_type": "code",
   "execution_count": 4,
   "metadata": {},
   "outputs": [
    {
     "name": "stdout",
     "output_type": "stream",
     "text": [
      "0.876759198211\n"
     ]
    },
    {
     "data": {
      "image/png": "[encoded data removed]",
      "text/plain": [
       "<matplotlib.figure.Figure at 0x1a0a853898>"
      ]
     },
     "metadata": {},
     "output_type": "display_data"
    }
   ],
   "source": [
    "base_rf = RandomForestRegressor(n_estimators=100,\n",
    "                                min_samples_leaf=1,\n",
    "                                n_jobs=-1,\n",
    "                                oob_score=True)\n",
    "\n",
    "fig, axes = plt.subplots(nrows=1, ncols=2, figsize=(9,2.8))\n",
    "\n",
    "X_train, y_train = df.drop('price',axis=1), df['price']\n",
    "rf = clone(base_rf)\n",
    "rf.fit(X_train, y_train)\n",
    "print(rf.oob_score_)\n",
    "\n",
    "plot_importances(X_train.columns,rf.feature_importances_, ax=axes[0])\n",
    "\n",
    "X_train2 = X_train.copy()\n",
    "X_train2['random'] = np.random.random(size=len(X_train))\n",
    "rf2 = clone(base_rf)\n",
    "rf2.fit(X_train2, y_train)\n",
    "plot_importances(X_train2.columns,rf2.feature_importances_, ax=axes[1])\n",
    "\n",
    "plt.tight_layout()\n",
    "plt.show()"
   ]
  },
  {
   "cell_type": "markdown",
   "metadata": {},
   "source": [
    "## Examine cost of dropping columns"
   ]
  },
  {
   "cell_type": "code",
   "execution_count": 5,
   "metadata": {},
   "outputs": [],
   "source": [
    "from sklearn.base import clone\n",
    "\n",
    "# max_features=n_features for regressors but sqrt for classifiers\n",
    "\n",
    "def regressor_dropping_importances(rf, X_train, y_train):\n",
    "    rf_ = clone(rf)\n",
    "    rf_.fit(X_train, y_train)\n",
    "    oob = rf_.oob_score_\n",
    "    print(f\"oob R^2 score is {oob}\")\n",
    "    imp = []\n",
    "    for col in X_train.columns:\n",
    "        X = X_train.copy().drop(col, axis=1)\n",
    "        rf_ = clone(rf)\n",
    "        rf_.fit(X, y_train)\n",
    "        o = rf_.oob_score_\n",
    "        print(f\"{col:10s}: R^2 score {oob:5.4f} - {o:5.4f} = {oob - o:5.4f}\")\n",
    "        imp.append(oob - o)\n",
    "    return np.array(imp)"
   ]
  },
  {
   "cell_type": "code",
   "execution_count": 6,
   "metadata": {},
   "outputs": [
    {
     "name": "stdout",
     "output_type": "stream",
     "text": [
      "oob R^2 score is 0.8775214604519737\n",
      "bathrooms : R^2 score 0.8775 - 0.8434 = 0.0341\n",
      "bedrooms  : R^2 score 0.8775 - 0.7927 = 0.0848\n",
      "longitude : R^2 score 0.8775 - 0.7435 = 0.1340\n",
      "latitude  : R^2 score 0.8775 - 0.7504 = 0.1272\n",
      "oob R^2 score is 0.8588242695125652\n",
      "bathrooms : R^2 score 0.8588 - 0.8214 = 0.0374\n",
      "bedrooms  : R^2 score 0.8588 - 0.7548 = 0.1040\n",
      "longitude : R^2 score 0.8588 - 0.6906 = 0.1682\n",
      "latitude  : R^2 score 0.8588 - 0.6956 = 0.1633\n",
      "random    : R^2 score 0.8588 - 0.8775 = -0.0187\n"
     ]
    },
    {
     "data": {
      "image/png": "[encoded data removed]",
      "text/plain": [
       "<matplotlib.figure.Figure at 0x1a0c015978>"
      ]
     },
     "metadata": {},
     "output_type": "display_data"
    }
   ],
   "source": [
    "base_rf = RandomForestRegressor(n_estimators=100,\n",
    "                                min_samples_leaf=1,\n",
    "                                n_jobs=-1,\n",
    "                                oob_score=True,\n",
    "                                random_state = 999) # same boostrapping samples\n",
    "\n",
    "fig, axes = plt.subplots(nrows=1, ncols=2, figsize=(9,2.8))\n",
    "\n",
    "X_train, y_train = df.drop('price',axis=1), df['price']\n",
    "rf = clone(base_rf)\n",
    "\n",
    "plot_importances(X_train.columns, \n",
    "                 regressor_dropping_importances(rf, X_train, y_train), ax=axes[0])\n",
    "\n",
    "X_train, y_train = df.drop('price',axis=1), df['price']\n",
    "X_train2 = X_train.copy()\n",
    "X_train2['random'] = np.random.random(size=len(X_train))\n",
    "rf2 = clone(base_rf)\n",
    "plot_importances(X_train2.columns,\n",
    "                 regressor_dropping_importances(rf2, X_train2, y_train), ax=axes[1])\n",
    "\n",
    "plt.tight_layout()\n",
    "plt.show()"
   ]
  },
  {
   "cell_type": "markdown",
   "metadata": {},
   "source": [
    "# Roll your own OOB R^2 score"
   ]
  },
  {
   "cell_type": "code",
   "execution_count": 10,
   "metadata": {},
   "outputs": [],
   "source": [
    "from sklearn.ensemble.forest import _generate_unsampled_indices\n",
    "from sklearn.metrics import r2_score\n",
    "import warnings\n",
    "\n",
    "# TODO: add arg for subsample size to compute oob score\n",
    "\n",
    "def oob_regression_r2_score(rf, X_train, y_train):\n",
    "    X = X_train.values\n",
    "    y = y_train.values\n",
    "\n",
    "    n_samples = len(X)\n",
    "    n_classes = len(np.unique(y))\n",
    "    predictions = np.zeros(n_samples)\n",
    "    n_predictions = np.zeros(n_samples)\n",
    "    for tree in rf.estimators_:\n",
    "        unsampled_indices = _generate_unsampled_indices(tree.random_state, n_samples)\n",
    "        tree_preds = tree.predict(X[unsampled_indices, :])\n",
    "        predictions[unsampled_indices] += tree_preds\n",
    "        n_predictions[unsampled_indices] += 1\n",
    "\n",
    "    if (n_predictions == 0).any():\n",
    "        warnings.warn(\"Too few trees; some variables do not have OOB scores.\")\n",
    "        n_predictions[n_predictions == 0] = 1\n",
    "\n",
    "    predictions /= n_predictions\n",
    "    \n",
    "    oob_score = r2_score(y, predictions)\n",
    "    return oob_score"
   ]
  },
  {
   "cell_type": "markdown",
   "metadata": {},
   "source": [
    "# Permutation importance"
   ]
  },
  {
   "cell_type": "code",
   "execution_count": 8,
   "metadata": {},
   "outputs": [],
   "source": [
    "def regression_permutation_importances(rf, X_train, y_train):\n",
    "    rf.fit(X_train, y_train)\n",
    "    oob = rf.oob_score_\n",
    "    imp = []\n",
    "    for col in X_train.columns:\n",
    "        save = X_train[col].copy()\n",
    "        X_train[col] = np.random.permutation(X_train[col])\n",
    "        o = oob_regression_r2_score(rf, X_train, y_train)\n",
    "        X_train[col] = save\n",
    "        print(f\"{col:10s}: r2 score {oob:5.4f} - {o:5.4f} = {oob - o:5.4f}\")\n",
    "        imp.append(oob - o)\n",
    "    return np.array(imp)"
   ]
  },
  {
   "cell_type": "code",
   "execution_count": 9,
   "metadata": {},
   "outputs": [
    {
     "name": "stdout",
     "output_type": "stream",
     "text": [
      "bathrooms : r2 score 0.8775 - 0.4559 = 0.4216\n",
      "bedrooms  : r2 score 0.8775 - 0.3808 = 0.4967\n",
      "longitude : r2 score 0.8775 - 0.3116 = 0.5659\n",
      "latitude  : r2 score 0.8775 - 0.3852 = 0.4923\n",
      "bathrooms : r2 score 0.8620 - 0.4526 = 0.4093\n",
      "bedrooms  : r2 score 0.8620 - 0.3816 = 0.4804\n",
      "longitude : r2 score 0.8620 - 0.3626 = 0.4994\n",
      "latitude  : r2 score 0.8620 - 0.4481 = 0.4139\n",
      "random    : r2 score 0.8620 - 0.8615 = 0.0005\n"
     ]
    },
    {
     "data": {
      "image/png": "[encoded data removed]",
      "text/plain": [
       "<matplotlib.figure.Figure at 0x1a0c3fccf8>"
      ]
     },
     "metadata": {},
     "output_type": "display_data"
    }
   ],
   "source": [
    "X_train, y_train = df.drop('price',axis=1), df['price']\n",
    "\n",
    "base_rf = RandomForestRegressor(n_estimators=100,\n",
    "                                min_samples_leaf=1,\n",
    "                                n_jobs=-1,\n",
    "                                max_features=len(X_train.columns),\n",
    "                                oob_score=True,\n",
    "                                random_state = 999) # same boostrapping samples\n",
    "\n",
    "fig, axes = plt.subplots(nrows=1, ncols=2, figsize=(9,2.8))\n",
    "\n",
    "rf = clone(base_rf)\n",
    "rf.fit(X_train, y_train)\n",
    "plot_importances(X_train.columns,\n",
    "                 regression_permutation_importances(rf, X_train, y_train), ax=axes[0])\n",
    "\n",
    "X_train2 = X_train.copy()\n",
    "X_train2['random'] = np.random.random(size=len(X_train))\n",
    "rf2 = clone(base_rf)\n",
    "rf2.fit(X_train2, y_train)\n",
    "\n",
    "plot_importances(X_train2.columns,\n",
    "                 regression_permutation_importances(rf2, X_train2, y_train), ax=axes[1])\n",
    "\n",
    "plt.tight_layout()\n",
    "plt.show()"
   ]
  }
 ],
 "metadata": {
  "kernelspec": {
   "display_name": "Python 3",
   "language": "python",
   "name": "python3"
  },
  "language_info": {
   "codemirror_mode": {
    "name": "ipython",
    "version": 3
   },
   "file_extension": ".py",
   "mimetype": "text/x-python",
   "name": "python",
   "nbconvert_exporter": "python",
   "pygments_lexer": "ipython3",
   "version": "3.6.3"
  }
 },
 "nbformat": 4,
 "nbformat_minor": 2
}
