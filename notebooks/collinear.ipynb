{
 "cells": [
  {
   "cell_type": "markdown",
   "metadata": {},
   "source": [
    "# Collinear features"
   ]
  },
  {
   "cell_type": "code",
   "execution_count": 2,
   "metadata": {},
   "outputs": [],
   "source": [
    "import pandas as pd\n",
    "import matplotlib.pyplot as plt\n",
    "import numpy as np\n",
    "import seaborn as sns\n",
    "from sklearn.ensemble import RandomForestRegressor\n",
    "from sklearn.metrics import mean_absolute_error, mean_squared_error, mean_absolute_error\n",
    "from sklearn.model_selection import cross_val_score\n",
    "from rfpimp import *\n",
    "from sklearn.model_selection import train_test_split"
   ]
  },
  {
   "cell_type": "code",
   "execution_count": 103,
   "metadata": {},
   "outputs": [],
   "source": [
    "df = pd.read_csv(\"data/rent.csv\")\n",
    "features = ['bathrooms','bedrooms','longitude','latitude', 'price']\n",
    "df = df[features].copy()\n",
    "\n",
    "# Clip to remove outliers\n",
    "df = df[(df['latitude']>40.55) & (df['latitude']<40.94) &\n",
    "        (df['longitude']>-74.1) & (df['longitude']<-73.67)]\n",
    "df = df[(df.price>1_000) & (df.price<10_000)]\n",
    "\n",
    "df_train, df_test = train_test_split(df, test_size=0.2)\n",
    "X_train = df_train[['bedrooms','bathrooms','latitude','longitude']]\n",
    "y_train = df_train['price']\n",
    "X_test = df_test[['bedrooms','bathrooms','latitude','longitude']]\n",
    "y_test = df_test['price']\n",
    "\n",
    "rf = RandomForestRegressor(oob_score=True, n_estimators=100, n_jobs=-1)"
   ]
  },
  {
   "cell_type": "markdown",
   "metadata": {},
   "source": [
    "## Drop column"
   ]
  },
  {
   "cell_type": "code",
   "execution_count": 104,
   "metadata": {},
   "outputs": [
    {
     "name": "stdout",
     "output_type": "stream",
     "text": [
      "CPU times: user 26.8 s, sys: 866 ms, total: 27.7 s\n",
      "Wall time: 6.08 s\n"
     ]
    },
    {
     "data": {
      "image/png": "[encoded data removed]",
      "text/plain": [
       "<Figure size 432x144 with 1 Axes>"
      ]
     },
     "metadata": {},
     "output_type": "display_data"
    }
   ],
   "source": [
    "%time I = dropcol_importances(rf, X_train, y_train)\n",
    "plot_importances(I, scalefig=(1,.5), save='../article/images/collinear_dropcol.svg')"
   ]
  },
  {
   "cell_type": "code",
   "execution_count": 105,
   "metadata": {},
   "outputs": [
    {
     "name": "stdout",
     "output_type": "stream",
     "text": [
      "CPU times: user 45.6 s, sys: 1.17 s, total: 46.8 s\n",
      "Wall time: 9.31 s\n"
     ]
    },
    {
     "data": {
      "image/png": "[encoded data removed]",
      "text/plain": [
       "<Figure size 432x144 with 1 Axes>"
      ]
     },
     "metadata": {},
     "output_type": "display_data"
    }
   ],
   "source": [
    "X_train_drop = X_train.copy()\n",
    "X_train_drop['longitude_dup'] = X_train_drop.longitude\n",
    "%time I = dropcol_importances(rf, X_train_drop, y_train)\n",
    "plot_importances(I, scalefig=(1,.5), save='../article/images/collinear_dropcol_longitude_dup.svg')"
   ]
  },
  {
   "cell_type": "code",
   "execution_count": 106,
   "metadata": {},
   "outputs": [
    {
     "name": "stdout",
     "output_type": "stream",
     "text": [
      "CPU times: user 34.7 s, sys: 1.03 s, total: 35.7 s\n",
      "Wall time: 7.45 s\n"
     ]
    },
    {
     "data": {
      "image/png": "[encoded data removed]",
      "text/plain": [
       "<Figure size 432x144 with 1 Axes>"
      ]
     },
     "metadata": {},
     "output_type": "display_data"
    }
   ],
   "source": [
    "X_train_drop = X_train.copy()\n",
    "X_train_drop['bathrooms_dup'] = X_train_drop.bathrooms\n",
    "%time I = dropcol_importances(rf, X_train_drop, y_train)\n",
    "plot_importances(I, scalefig=(1,.5), save='../article/images/collinear_dropcol_bathrooms_dup.svg')"
   ]
  },
  {
   "cell_type": "markdown",
   "metadata": {},
   "source": [
    "## Validation set"
   ]
  },
  {
   "cell_type": "code",
   "execution_count": 108,
   "metadata": {},
   "outputs": [
    {
     "name": "stdout",
     "output_type": "stream",
     "text": [
      "0.8618343643601613\n"
     ]
    }
   ],
   "source": [
    "rf = RandomForestRegressor(n_estimators=100, n_jobs=-1, oob_score=True)\n",
    "rf.fit(X_train, y_train)\n",
    "print(rf.oob_score_)"
   ]
  },
  {
   "cell_type": "code",
   "execution_count": 109,
   "metadata": {},
   "outputs": [
    {
     "name": "stdout",
     "output_type": "stream",
     "text": [
      "(9660, 4)\n",
      "CPU times: user 1.14 s, sys: 34 ms, total: 1.18 s\n",
      "Wall time: 529 ms\n"
     ]
    },
    {
     "data": {
      "image/png": "[encoded data removed]",
      "text/plain": [
       "<Figure size 432x144 with 1 Axes>"
      ]
     },
     "metadata": {},
     "output_type": "display_data"
    }
   ],
   "source": [
    "print(X_test.shape)\n",
    "%time I = importances(rf, X_test, y_test, n_samples=-1)\n",
    "plot_importances(I, scalefig=(1,.5), save='../article/images/collinear_permute.svg')"
   ]
  },
  {
   "cell_type": "code",
   "execution_count": 111,
   "metadata": {},
   "outputs": [
    {
     "name": "stdout",
     "output_type": "stream",
     "text": [
      "CPU times: user 4.53 s, sys: 55.5 ms, total: 4.59 s\n",
      "Wall time: 953 ms\n"
     ]
    },
    {
     "data": {
      "image/png": "[encoded data removed]",
      "text/plain": [
       "<Figure size 432x144 with 1 Axes>"
      ]
     },
     "metadata": {},
     "output_type": "display_data"
    }
   ],
   "source": [
    "rf = RandomForestRegressor(n_estimators=100, n_jobs=-1, oob_score=True)\n",
    "X_train_val = X_train.copy()\n",
    "X_train_val['longitude_dup'] = X_train_val.longitude\n",
    "rf.fit(X_train_val, y_train)\n",
    "%time I = importances(rf, X_train_val, y_train, n_samples=-1)\n",
    "plot_importances(I, scalefig=(1,.5), save='../article/images/collinear_permute_longitude_dup.svg')"
   ]
  },
  {
   "cell_type": "code",
   "execution_count": 138,
   "metadata": {},
   "outputs": [
    {
     "name": "stdout",
     "output_type": "stream",
     "text": [
      "CPU times: user 6.28 s, sys: 70.6 ms, total: 6.35 s\n",
      "Wall time: 1.26 s\n"
     ]
    },
    {
     "data": {
      "image/png": "[encoded data removed]",
      "text/plain": [
       "<Figure size 432x144 with 1 Axes>"
      ]
     },
     "metadata": {},
     "output_type": "display_data"
    }
   ],
   "source": [
    "rf = RandomForestRegressor(n_estimators=100, n_jobs=-1, oob_score=True)\n",
    "X_train_val = X_train.copy()\n",
    "longitude_mean = np.mean(X_train_val.longitude)\n",
    "longitude_range = max(X_train_val.longitude) - min(X_train_val.longitude)\n",
    "# Range is .3938 so add uniform noise in range 0..c\n",
    "c = .0005\n",
    "noise = np.random.random(len(X_train_val))*c\n",
    "\n",
    "X_train_val['longitude_noisy'] = X_train_val.longitude + noise\n",
    "rf.fit(X_train_val, y_train)\n",
    "%time I = importances(rf, X_train_val, y_train, n_samples=-1)\n",
    "plot_importances(I, scalefig=(1,.5), save='../article/images/collinear_permute_longitude_dup.svg')"
   ]
  },
  {
   "cell_type": "markdown",
   "metadata": {},
   "source": [
    "## Cross validation"
   ]
  },
  {
   "cell_type": "code",
   "execution_count": 94,
   "metadata": {},
   "outputs": [
    {
     "name": "stdout",
     "output_type": "stream",
     "text": [
      "CPU times: user 1min 22s, sys: 3.35 s, total: 1min 26s\n",
      "Wall time: 15.4 s\n"
     ]
    },
    {
     "data": {
      "image/png": "[encoded data removed]",
      "text/plain": [
       "<Figure size 432x288 with 1 Axes>"
      ]
     },
     "metadata": {},
     "output_type": "display_data"
    }
   ],
   "source": [
    "rf = RandomForestRegressor(n_estimators=100, n_jobs=-1)\n",
    "%time I = cv_importances(rf, X_train, y_train)\n",
    "plot_importances(I)"
   ]
  },
  {
   "cell_type": "markdown",
   "metadata": {},
   "source": [
    "## Eli5"
   ]
  },
  {
   "cell_type": "code",
   "execution_count": 96,
   "metadata": {},
   "outputs": [
    {
     "name": "stdout",
     "output_type": "stream",
     "text": [
      "CPU times: user 4.58 s, sys: 149 ms, total: 4.73 s\n",
      "Wall time: 2.24 s\n"
     ]
    },
    {
     "data": {
      "text/plain": [
       "<matplotlib.axes._subplots.AxesSubplot at 0x11c057e80>"
      ]
     },
     "execution_count": 96,
     "metadata": {},
     "output_type": "execute_result"
    },
    {
     "data": {
      "image/png": "[encoded data removed]",
      "text/plain": [
       "<Figure size 432x288 with 1 Axes>"
      ]
     },
     "metadata": {},
     "output_type": "display_data"
    }
   ],
   "source": [
    "from eli5.sklearn import PermutationImportance\n",
    "import eli5\n",
    "\n",
    "rf = RandomForestRegressor(n_estimators=100, n_jobs=-1, oob_score=True)\n",
    "rf.fit(X_train, y_train)\n",
    "\n",
    "%time perm = PermutationImportance(rf).fit(X_test, y_test)\n",
    "I = pd.DataFrame(data={\"columns\":X_test.columns, \"importances\":perm.feature_importances_})\n",
    "I = I.set_index(\"columns\")\n",
    "I = I.sort_values('importances', ascending=True)\n",
    "I.plot.barh()"
   ]
  }
 ],
 "metadata": {
  "kernelspec": {
   "display_name": "Python 3",
   "language": "python",
   "name": "python3"
  },
  "language_info": {
   "codemirror_mode": {
    "name": "ipython",
    "version": 3
   },
   "file_extension": ".py",
   "mimetype": "text/x-python",
   "name": "python",
   "nbconvert_exporter": "python",
   "pygments_lexer": "ipython3",
   "version": "3.6.5"
  }
 },
 "nbformat": 4,
 "nbformat_minor": 2
}
